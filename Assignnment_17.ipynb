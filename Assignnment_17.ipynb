{
 "cells": [
  {
   "cell_type": "markdown",
   "id": "ea8362d0-8e67-4ddd-b32c-4e92dfaea812",
   "metadata": {},
   "source": [
    "Q1. What is MongoDB? Explain non-relational databases in short. In which scenarios it is preferred to use\n",
    "MongoDB over SQL databases?"
   ]
  },
  {
   "cell_type": "markdown",
   "id": "481f58a7-0a7c-49e9-84a3-775b491576f0",
   "metadata": {},
   "source": [
    "MongoDB is an open-source document-oriented NoSQL database that stores data in a flexible, JSON-like format.\n",
    "\n",
    "Non-relational databases, also known as NoSQL databases, are a type of database management system that is designed to store and manage unstructured and semi-structured data in a more flexible and scalable manner than traditional SQL databases. They do not rely on the traditional tabular structure of rows and columns used in relational databases, instead using a variety of data models such as key-value, document, column-family, and graph. NoSQL databases are preferred for applications that require flexible schema design, handle large volumes of unstructured data, and require high performance and scalability.\n",
    "\n",
    "MongoDB is preferred over SQL databases in scenarios where:\n",
    "\n",
    "1. The application requires flexible and dynamic schema design.\n",
    "2. The application needs to handle large volumes of unstructured or semi-structured data.\n",
    "3. The application needs to scale horizontally across multiple servers.\n",
    "4. The application requires fast read and write operations.\n",
    "5. The application needs to be developed and deployed quickly using an agile approach.\n",
    "\n",
    "MongoDB's dynamic schema, horizontal scaling, and ability to handle large volumes of unstructured data make it a popular choice for modern web and mobile applications, real-time analytics, and IoT applications, where data models may evolve frequently, and high performance is critical."
   ]
  },
  {
   "cell_type": "code",
   "execution_count": null,
   "id": "d21af5b0-fd64-49fa-8af8-a55213c3ac8b",
   "metadata": {},
   "outputs": [],
   "source": []
  },
  {
   "cell_type": "markdown",
   "id": "3be0f50c-07b1-4693-861e-531fa2da0c24",
   "metadata": {},
   "source": [
    "Q2. State and Explain the features of MongoDB."
   ]
  },
  {
   "cell_type": "markdown",
   "id": "c404e0b6-6809-4cfd-b847-3e81e06d04c7",
   "metadata": {},
   "source": [
    "MongoDB is a popular NoSQL database that offers several features such as a document-oriented data model, dynamic schema design, horizontal scalability, high availability, flexible indexing, and a rich query language. It also includes GridFS for storing large files and supports multiple programming languages, making it easy to integrate with existing applications. \n",
    "These features make MongoDB a popular choice for modern, data-intensive applications, including web and mobile applications, IoT applications, real-time analytics, and more."
   ]
  },
  {
   "cell_type": "code",
   "execution_count": null,
   "id": "3f0c283d-f0f1-4f8d-8c51-827af8f61417",
   "metadata": {},
   "outputs": [],
   "source": []
  },
  {
   "cell_type": "markdown",
   "id": "90ccf2d3-7057-4754-ac19-e84bd214db39",
   "metadata": {},
   "source": [
    "Q3. Write a code to connect MongoDB to Python. Also, create a database and a collection in MongoDB."
   ]
  },
  {
   "cell_type": "code",
   "execution_count": null,
   "id": "7795717c-3b7d-4a97-a12e-626107dec825",
   "metadata": {},
   "outputs": [],
   "source": [
    "import pymongo\n",
    "\n",
    "# connect to MongoDB server\n",
    "client = pymongo.MongoClient(\"mongodb://localhost:27017/\")\n",
    "\n",
    "# create a database\n",
    "db = client[\"mydatabase\"]\n",
    "\n",
    "# create a collection\n",
    "collection = db[\"customers\"]\n",
    "\n",
    "# insert a document into the collection\n",
    "customer = { \"name\": \"John Doe\", \"email\": \"johndoe@example.com\", \"phone\": \"555-555-5555\" }\n",
    "inserted_customer = collection.insert_one(customer)\n",
    "\n",
    "# print the inserted document ID\n",
    "print(\"Inserted customer with ID:\", inserted_customer.inserted_id)\n"
   ]
  },
  {
   "cell_type": "code",
   "execution_count": null,
   "id": "ed5ba2b2-7e56-4923-9df1-0e532c9521bc",
   "metadata": {},
   "outputs": [],
   "source": []
  },
  {
   "cell_type": "markdown",
   "id": "2fdbc5ea-847f-40d2-8dff-ac8ecee49f1d",
   "metadata": {},
   "source": [
    "Q4. Using the database and the collection created in question number 3, write a code to insert one record,\n",
    "and insert many records. Use the find() and find_one() methods to print the inserted record."
   ]
  },
  {
   "cell_type": "code",
   "execution_count": null,
   "id": "9096b9ea-f4a8-43bb-b556-4ef59398affb",
   "metadata": {},
   "outputs": [],
   "source": [
    "import pymongo\n",
    "\n",
    "\n",
    "client = pymongo.MongoClient(\"mongodb://localhost:27017/\")\n",
    "\n",
    "\n",
    "db = client[\"mydatabase\"]\n",
    "collection = db[\"customers\"]\n",
    "\n",
    "\n",
    "customer = { \"name\": \"dipesh\", \"email\": \"dipesh.com\", \"phone\": \"9999999989\" }\n",
    "inserted_customer = collection.insert_one(customer)\n",
    "\n",
    "\n",
    "customers = [\n",
    "    { \"name\": \"Smith\", \"email\": \"smith.com\", \"phone\": \"9995555557\" },\n",
    "    { \"name\": \"Rahul\", \"email\": \"sjohnson.com\", \"phone\": \"9995555558\" },\n",
    "    { \"name\": \"Tom\", \"email\": \"twilliams.com\", \"phone\": \"9995555559\" }\n",
    "]\n",
    "inserted_customers = collection.insert_many(customers)\n",
    "\n",
    "ds\n",
    "print(\"Inserted customer with ID:\", inserted_customer.inserted_id)\n",
    "print(\"Inserted customers with IDs:\", inserted_customers.inserted_ids)\n",
    "\n",
    "print(\"Inserted customer:\", collection.find_one({ \"name\": \"Jane Doe\" }))\n",
    "print(\"Inserted customers:\")\n",
    "for customer in collection.find():\n",
    "    print(customer)\n"
   ]
  },
  {
   "cell_type": "code",
   "execution_count": null,
   "id": "4cc5bbcd-d1b1-43e3-badc-74c245b909e0",
   "metadata": {},
   "outputs": [],
   "source": []
  },
  {
   "cell_type": "markdown",
   "id": "574ff5f0-ffb5-47f6-a0ee-b5a0f22054ee",
   "metadata": {},
   "source": [
    "Q5. Explain how you can use the find() method to query the MongoDB database. Write a simple code to\n",
    "demonstrate this."
   ]
  },
  {
   "cell_type": "code",
   "execution_count": null,
   "id": "29c736a1-abb3-43d3-9e69-3f504edbb06e",
   "metadata": {},
   "outputs": [],
   "source": [
    "import pymongo\n",
    "\n",
    "\n",
    "client = pymongo.MongoClient(\"mongodb://localhost:27017/\")\n",
    "\n",
    "\n",
    "db = client[\"mydatabase\"]\n",
    "collection = db[\"customers\"]\n",
    "\n",
    "\n",
    "query = { \"name\": \"dipesh\" }\n",
    "result = collection.find(query)\n",
    "\n",
    "\n",
    "for customer in result:\n",
    "    print(customer)\n"
   ]
  },
  {
   "cell_type": "code",
   "execution_count": null,
   "id": "47d03f3b-d89d-4532-83a0-8bd0ed316534",
   "metadata": {},
   "outputs": [],
   "source": []
  },
  {
   "cell_type": "markdown",
   "id": "c7e61db4-8496-4e08-be62-1d73a18884d4",
   "metadata": {},
   "source": [
    "Q6. Explain the sort() method. Give an example to demonstrate sorting in MongoDB."
   ]
  },
  {
   "cell_type": "code",
   "execution_count": null,
   "id": "3d749c9a-d0e0-4e00-a46f-22731278d39e",
   "metadata": {},
   "outputs": [],
   "source": [
    "import pymongo\n",
    "\n",
    "client = pymongo.MongoClient(\"mongodb://localhost:27017/\")\n",
    "\n",
    "\n",
    "db = client[\"mydatabase\"]\n",
    "collection = db[\"customers\"]\n",
    "\n",
    "sort_order = [(\"name\", 1)]\n",
    "result = collection.find().sort(sort_order)\n",
    "for customer in result:\n",
    "    print(customer)\n"
   ]
  },
  {
   "cell_type": "code",
   "execution_count": null,
   "id": "d8b528e0-fe1e-4d86-abce-c9a14337a2bd",
   "metadata": {},
   "outputs": [],
   "source": []
  },
  {
   "cell_type": "markdown",
   "id": "39fd1cdd-8c02-47b4-b366-2ee7837cfcb4",
   "metadata": {},
   "source": [
    "Q7. Explain why delete_one(), delete_many(), and drop() is used."
   ]
  },
  {
   "cell_type": "markdown",
   "id": "c526115a-f65f-45fd-9c42-912b3767abac",
   "metadata": {},
   "source": [
    "delete_one() is used to delete a single document, delete_many() is used to delete multiple documents, and drop() is used to delete an entire collection in MongoDB."
   ]
  },
  {
   "cell_type": "code",
   "execution_count": null,
   "id": "2ce33038-d66a-46bb-b3ca-3d4965543a20",
   "metadata": {},
   "outputs": [],
   "source": [
    "import pymongo\n",
    "client = pymongo.MongoClient(\"mongodb://localhost:27017/\")\n",
    "db = client[\"mydatabase\"]\n",
    "collection = db[\"mycollection\"]\n",
    "collection.delete_one({\"name\": \"dipesh\"})\n",
    "collection.delete_many({\"age\": {\"$lt\": 30}})\n",
    "collection.drop()"
   ]
  }
 ],
 "metadata": {
  "kernelspec": {
   "display_name": "Python 3 (ipykernel)",
   "language": "python",
   "name": "python3"
  },
  "language_info": {
   "codemirror_mode": {
    "name": "ipython",
    "version": 3
   },
   "file_extension": ".py",
   "mimetype": "text/x-python",
   "name": "python",
   "nbconvert_exporter": "python",
   "pygments_lexer": "ipython3",
   "version": "3.10.8"
  }
 },
 "nbformat": 4,
 "nbformat_minor": 5
}
