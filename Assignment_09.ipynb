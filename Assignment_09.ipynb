{
 "cells": [
  {
   "cell_type": "markdown",
   "id": "889a2a60-3642-4746-b153-deeddedb0be8",
   "metadata": {},
   "source": [
    "Q1. Create a vehicle class with an init method having instance variables as name_of_vehicle, max_speed\n",
    "and average_of_vehicle."
   ]
  },
  {
   "cell_type": "code",
   "execution_count": 8,
   "id": "bf4a8594-8d50-477d-8765-7d10901150e7",
   "metadata": {},
   "outputs": [
    {
     "data": {
      "text/plain": [
       "('honda', 130, 23)"
      ]
     },
     "execution_count": 8,
     "metadata": {},
     "output_type": "execute_result"
    }
   ],
   "source": [
    "class vehicle:\n",
    "    def __init__(self,name_of_vehicle,max_speed,average_of_vehicle):\n",
    "        self.name_of_vehicle=name_of_vehicle\n",
    "        self.max_speed=max_speed\n",
    "        self.average_of_vehicle=average_of_vehicle\n",
    "        \n",
    "    def info(self):\n",
    "        return self.name_of_vehicle,self.max_speed,self.average_of_vehicle\n",
    "        \n",
    "obj=vehicle('honda',130,23)\n",
    "obj.info()"
   ]
  },
  {
   "cell_type": "markdown",
   "id": "4d688c79-9cab-4513-ae2a-cde4669b752c",
   "metadata": {},
   "source": [
    "Q2. Create a child class car from the vehicle class created in Que 1, which will inherit the vehicle class.\n",
    "Create a method named seating_capacity which takes capacity as an argument and returns the name of\n",
    "the vehicle and its seating capacity."
   ]
  },
  {
   "cell_type": "code",
   "execution_count": 13,
   "id": "21ec8135-cb7b-4bfc-8148-99d318a11f2d",
   "metadata": {},
   "outputs": [
    {
     "data": {
      "text/plain": [
       "('honda', 70)"
      ]
     },
     "execution_count": 13,
     "metadata": {},
     "output_type": "execute_result"
    }
   ],
   "source": [
    "class child(vehicle):\n",
    "    def seating_capacity(self,capacity):\n",
    "        self.capacity=capacity\n",
    "        return self.name_of_vehicle,self.capacity\n",
    "obj1=child('honda',130,23)\n",
    "obj1.seating_capacity(70)\n",
    "    "
   ]
  },
  {
   "cell_type": "markdown",
   "id": "da8a25bb-fe5e-40f3-941a-aa0859d80445",
   "metadata": {},
   "source": [
    "Q3. What is multiple inheritance? Write a python code to demonstrate multiple inheritance."
   ]
  },
  {
   "cell_type": "code",
   "execution_count": 19,
   "id": "a0f09eb7-55c1-48c6-bdc4-9e07c907490e",
   "metadata": {},
   "outputs": [
    {
     "name": "stdout",
     "output_type": "stream",
     "text": [
      "This is class1\n",
      "This is class2\n"
     ]
    }
   ],
   "source": [
    "'''Multiple:-When a class is derived from more than one base class it is called multiple Inheritance. \n",
    "             The derived class inherits all the features of the base case. '''\n",
    "\n",
    "#example:\n",
    "class class1:\n",
    "    def method1(self):\n",
    "        print(\"This is class 1\")\n",
    "class class2:\n",
    "    def method2(self):\n",
    "        print(\"This is class 2\")\n",
    "class class3(class1,class2):\n",
    "    pass\n",
    "    \n",
    "obj2=class3()\n",
    "obj2.method1()\n",
    "obj2.method2()"
   ]
  },
  {
   "cell_type": "markdown",
   "id": "6b29c19e-1603-4a07-9691-d80323e93a8b",
   "metadata": {},
   "source": [
    "Q4. What are getter and setter in python? Create a class and create a getter and a setter method in this\n",
    "class."
   ]
  },
  {
   "cell_type": "code",
   "execution_count": 28,
   "id": "c46f1b3f-fa48-44a3-b988-3b5db4931776",
   "metadata": {},
   "outputs": [
    {
     "data": {
      "text/plain": [
       "'Rahul'"
      ]
     },
     "execution_count": 28,
     "metadata": {},
     "output_type": "execute_result"
    }
   ],
   "source": [
    "'''Getter: A method that allows you to access an attribute in a given class. \n",
    "   Setter: A method that allows you to set or mutate the value of an attribute in a class. '''\n",
    "\n",
    "class person:\n",
    "    def __init__(self,name):\n",
    "        self._name=name\n",
    "    def getter(self):\n",
    "        return self._name\n",
    "    def setter(self,new_name):\n",
    "        self._name=new_name\n",
    "\n",
    "obj3=person('Dipesh')\n",
    "obj3.getter()\n",
    "obj3.setter('Rahul')\n",
    "obj3.getter()"
   ]
  },
  {
   "cell_type": "markdown",
   "id": "3dc9cda2-52f3-4793-b452-a33a73ab96a5",
   "metadata": {},
   "source": [
    "Q5.What is method overriding in python? Write a python code to demonstrate method overriding."
   ]
  },
  {
   "cell_type": "code",
   "execution_count": 29,
   "id": "b9062523-0e76-435a-b3ea-6b2129bc9ec8",
   "metadata": {},
   "outputs": [
    {
     "name": "stdout",
     "output_type": "stream",
     "text": [
      "Inside Parent\n",
      "Inside Child\n"
     ]
    }
   ],
   "source": [
    "'''Method overriding is a feature of object-oriented programming languages where the subclass\n",
    "or child class can provide the program with specific characteristics \n",
    "or a specific implementation process of data provided that are already defined in the parent class or superclass.'''\n",
    "\n",
    "# Example:-\n",
    "\n",
    "class Parent():\n",
    "\tdef __init__(self):\n",
    "\t\tself.value = \"Inside Parent\"\n",
    "\tdef show(self):\n",
    "\t\tprint(self.value)\n",
    "class Child(Parent):\n",
    "\tdef __init__(self):\n",
    "\t\tself.value = \"Inside Child\"\n",
    "\tdef show(self):\n",
    "\t\tprint(self.value)\n",
    "\n",
    "obj4 = Parent()\n",
    "obj5 = Child()\n",
    "obj4.show()\n",
    "obj5.show()\n"
   ]
  },
  {
   "cell_type": "code",
   "execution_count": null,
   "id": "deccb8d8-e861-4001-a0af-b613a3c2d6bd",
   "metadata": {},
   "outputs": [],
   "source": []
  }
 ],
 "metadata": {
  "kernelspec": {
   "display_name": "Python 3 (ipykernel)",
   "language": "python",
   "name": "python3"
  },
  "language_info": {
   "codemirror_mode": {
    "name": "ipython",
    "version": 3
   },
   "file_extension": ".py",
   "mimetype": "text/x-python",
   "name": "python",
   "nbconvert_exporter": "python",
   "pygments_lexer": "ipython3",
   "version": "3.10.8"
  }
 },
 "nbformat": 4,
 "nbformat_minor": 5
}
