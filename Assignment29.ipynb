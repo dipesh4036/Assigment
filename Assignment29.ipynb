{
 "cells": [
  {
   "cell_type": "code",
   "execution_count": null,
   "id": "636a904d-cda9-43e5-ba7d-f3c3dd28388d",
   "metadata": {},
   "outputs": [],
   "source": [
    "Que.1:-    Guido van Rossum"
   ]
  },
  {
   "cell_type": "code",
   "execution_count": null,
   "id": "82050c08-e05d-4cec-81ce-0ed4b89ac5b5",
   "metadata": {},
   "outputs": [],
   "source": [
    "Que.2:-    Python is an interpreted programming language,supporting Object-oriented,Structured and Functional Programming."
   ]
  },
  {
   "cell_type": "code",
   "execution_count": null,
   "id": "d8c4848f-ace7-4b87-9c72-d217548e024e",
   "metadata": {},
   "outputs": [],
   "source": [
    "Que.3:-    Yes,Python is Case-Sensitive Language,Apply also Identifiers. "
   ]
  },
  {
   "cell_type": "code",
   "execution_count": null,
   "id": "eee2136a-0e19-4434-bac8-4d5729f4b5b5",
   "metadata": {},
   "outputs": [],
   "source": [
    "Que.4:-    The Extensions for Python File are -  .py ,  .pyi"
   ]
  },
  {
   "cell_type": "code",
   "execution_count": null,
   "id": "3e9bbe7f-fbf1-4c91-901e-004dbee8515b",
   "metadata": {},
   "outputs": [],
   "source": [
    "Que.5:-    Python is an Interpreted Language."
   ]
  },
  {
   "cell_type": "code",
   "execution_count": null,
   "id": "0195cba9-5eab-4c34-8257-2777c441b33f",
   "metadata": {},
   "outputs": [],
   "source": [
    "Que.6:-    A Module,A Function Body,And A Class Definition."
   ]
  },
  {
   "cell_type": "code",
   "execution_count": null,
   "id": "0dcda36c-9702-40ce-8a8a-95b5da5f783d",
   "metadata": {},
   "outputs": [],
   "source": [
    "Que.7:-    We Can Write a Single-Line Comment By Adding A Single # Charactor. "
   ]
  },
  {
   "cell_type": "code",
   "execution_count": null,
   "id": "a37b5d94-257c-4288-a975-401f2088b883",
   "metadata": {},
   "outputs": [],
   "source": [
    "Que.8:-    python --version"
   ]
  },
  {
   "cell_type": "code",
   "execution_count": null,
   "id": "2575f7aa-6d56-4d7b-bf28-a14af277d680",
   "metadata": {},
   "outputs": [],
   "source": [
    "Que.9:-    It is a Construct Called \"Lambda\"."
   ]
  },
  {
   "cell_type": "code",
   "execution_count": null,
   "id": "b5d3bf15-d06f-451b-b8c5-90f66075dee7",
   "metadata": {},
   "outputs": [],
   "source": [
    "Que.10:-   Preferred Installer Program."
   ]
  },
  {
   "cell_type": "code",
   "execution_count": null,
   "id": "44f37d49-854d-49cd-a128-e2e950ac427c",
   "metadata": {},
   "outputs": [],
   "source": [
    "Que.11:-   print(),type(),input(),pow(),sorted(),max()."
   ]
  },
  {
   "cell_type": "code",
   "execution_count": null,
   "id": "cd783f22-0866-4148-a01a-f68f68dad300",
   "metadata": {},
   "outputs": [],
   "source": [
    "Que.12:-   79 Characters."
   ]
  },
  {
   "cell_type": "code",
   "execution_count": null,
   "id": "a4039e02-21c7-4405-9773-2247895472a6",
   "metadata": {},
   "outputs": [],
   "source": [
    "Que.13:-   Data science.\n",
    "\t\t   Scientific and mathematical computing.\n",
    "\t\t   Web development.\n",
    "\t\t   Finance and trading.\n",
    "\t\t    System automation and administration.\n",
    "\t\t    Computer graphics.\n",
    "\t\t    Basic game development.\n",
    "\t\t\tSecurity and penetration testing."
   ]
  },
  {
   "cell_type": "code",
   "execution_count": null,
   "id": "36f80e25-8ce3-44b3-bec3-30f78ac26145",
   "metadata": {},
   "outputs": [],
   "source": [
    "Que.14:-    Memory management in Python involves a private heap containing all Python objects and data structures. The management of this private heap is ensured internally by the Python memory manager."
   ]
  },
  {
   "cell_type": "code",
   "execution_count": null,
   "id": "416ecfc1-f891-445e-941f-1b70ede1d4e0",
   "metadata": {},
   "outputs": [],
   "source": [
    "Que.15:-    The complete path of python.exe can be added by:\n",
    "\t\t\tRight-clicking This PC and going to Properties.\n",
    "\t\t\tClicking on the Advanced system settings in the menu on the left.\n",
    "\t\t\tClicking on the Environment Variables button o​n the bottom right.\n",
    "\t\t\tIn the System variables section, selecting the Path variable and clicking on Edit. The next screen will show all the directories that are currently a part of the PATH variable.\n",
    "\t\t\tClicking on New and entering Python’s install directory."
   ]
  },
  {
   "cell_type": "code",
   "execution_count": null,
   "id": "ad94b0c2-adb8-48cb-a086-94e39bb16674",
   "metadata": {},
   "outputs": [],
   "source": [
    "Que.16:-    Yes,The indentation in Python is very important."
   ]
  },
  {
   "cell_type": "code",
   "execution_count": null,
   "id": "2f738078-8a10-4a61-b4f6-4c3b069f09c4",
   "metadata": {},
   "outputs": [],
   "source": []
  },
  {
   "cell_type": "code",
   "execution_count": null,
   "id": "4a658f9a-4fa1-4971-9955-c83bf4a84161",
   "metadata": {},
   "outputs": [],
   "source": []
  },
  {
   "cell_type": "code",
   "execution_count": null,
   "id": "6dcbacd8-b583-4641-9118-3df4b682d413",
   "metadata": {},
   "outputs": [],
   "source": []
  }
 ],
 "metadata": {
  "kernelspec": {
   "display_name": "Python 3 (ipykernel)",
   "language": "python",
   "name": "python3"
  },
  "language_info": {
   "codemirror_mode": {
    "name": "ipython",
    "version": 3
   },
   "file_extension": ".py",
   "mimetype": "text/x-python",
   "name": "python",
   "nbconvert_exporter": "python",
   "pygments_lexer": "ipython3",
   "version": "3.10.8"
  }
 },
 "nbformat": 4,
 "nbformat_minor": 5
}
