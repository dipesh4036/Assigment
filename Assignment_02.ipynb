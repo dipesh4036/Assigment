{
 "cells": [
  {
   "cell_type": "markdown",
   "id": "29d1877c-b15f-41b4-a016-aeaaafbae3be",
   "metadata": {},
   "source": [
    "Que.1:-  For loop is used when the number of iterations is already known.\n",
    "While loop is used when the number of iterations is already Unknown. "
   ]
  },
  {
   "cell_type": "code",
   "execution_count": 2,
   "id": "3a1f33f6-0bc2-45ba-b487-defb3e72d9de",
   "metadata": {},
   "outputs": [
    {
     "name": "stdout",
     "output_type": "stream",
     "text": [
      "0\n",
      "1\n",
      "2\n",
      "3\n",
      "4\n"
     ]
    }
   ],
   "source": [
    "# For loop\n",
    "a=5\n",
    "for i in range(0,a,1):\n",
    "    print(i)"
   ]
  },
  {
   "cell_type": "code",
   "execution_count": 1,
   "id": "256c9410-1cf1-49be-bc59-7a5cfaea1f83",
   "metadata": {},
   "outputs": [
    {
     "name": "stdin",
     "output_type": "stream",
     "text": [
      "Enter a number:  23\n",
      "Enter a number:  34\n",
      "Enter a number:  12\n",
      "Enter a number:  0\n"
     ]
    },
    {
     "name": "stdout",
     "output_type": "stream",
     "text": [
      "total = 69\n"
     ]
    }
   ],
   "source": [
    "#while loop\n",
    "total = 0\n",
    "number = int(input('Enter a number: '))\n",
    "while number != 0:\n",
    "    total += number  \n",
    "    number = int(input('Enter a number: '))\n",
    "print('total =', total)"
   ]
  },
  {
   "cell_type": "markdown",
   "id": "b609620f-06d8-4e2e-b497-b6ddf0cc20f5",
   "metadata": {},
   "source": [
    "Que.2  sum and producet of first 10 number for loop and while loop"
   ]
  },
  {
   "cell_type": "code",
   "execution_count": 14,
   "id": "863f63cc-5edd-4267-b71a-b3470009f8b2",
   "metadata": {},
   "outputs": [
    {
     "name": "stdout",
     "output_type": "stream",
     "text": [
      "55\n",
      "3628800\n"
     ]
    }
   ],
   "source": [
    "sum1=0\n",
    "multi=1\n",
    "for i in range(1,11,1):\n",
    "    sum1=sum1+i\n",
    "    multi=multi*i\n",
    "print(sum1)\n",
    "print(multi)"
   ]
  },
  {
   "cell_type": "code",
   "execution_count": 1,
   "id": "138b3a89-2521-4a7b-9bbe-dd66fc119d02",
   "metadata": {},
   "outputs": [
    {
     "name": "stdout",
     "output_type": "stream",
     "text": [
      "55\n",
      "3628800\n"
     ]
    }
   ],
   "source": [
    "sum1=0\n",
    "multi=1\n",
    "i=1\n",
    "while i<=10:\n",
    "    sum1=sum1+i\n",
    "    multi=multi*i\n",
    "    i+=1\n",
    "print(sum1)\n",
    "print(multi)"
   ]
  },
  {
   "cell_type": "markdown",
   "id": "77620ffa-1b03-4b74-b944-09df6f4eebbd",
   "metadata": {},
   "source": [
    "Que.3 Create a Python Program to compute the electricity bill for household"
   ]
  },
  {
   "cell_type": "code",
   "execution_count": 6,
   "id": "ff2032d9-a002-430e-a4a5-78c766ef678f",
   "metadata": {},
   "outputs": [
    {
     "name": "stdin",
     "output_type": "stream",
     "text": [
      "enter your number 310\n"
     ]
    },
    {
     "name": "stdout",
     "output_type": "stream",
     "text": [
      "2250\n"
     ]
    }
   ],
   "source": [
    "n=int(input(\"enter your number\"))\n",
    "if n<=100:\n",
    "    print(n*4.5)\n",
    "elif n<=200:\n",
    "    print(450+(n%100)*6)\n",
    "elif n<=300:\n",
    "    print(1050+(n%100)*10)\n",
    "else:\n",
    "    print(2050+(n%100)*20)"
   ]
  },
  {
   "cell_type": "markdown",
   "id": "6c20bae9-8d86-42e6-bb69-aac7a535bb6d",
   "metadata": {},
   "source": [
    "Que.4 Create List and print 1 to 100 and Append divisible by 4 or 5 number in new list"
   ]
  },
  {
   "cell_type": "code",
   "execution_count": 2,
   "id": "9e13dbcc-c193-4dda-af7c-0f80ffa907d2",
   "metadata": {},
   "outputs": [
    {
     "name": "stdout",
     "output_type": "stream",
     "text": [
      "the list of cube that are divisible by 4 or 5: [8, 64, 125, 216, 512, 1000, 1728, 2744, 3375, 4096, 5832, 8000, 10648, 13824, 15625, 17576, 21952, 27000, 32768, 39304, 42875, 46656, 54872, 64000, 74088, 85184, 91125, 97336, 110592, 125000, 140608, 157464, 166375, 175616, 195112, 216000, 238328, 262144, 274625, 287496, 314432, 343000, 373248, 405224, 421875, 438976, 474552, 512000, 551368, 592704, 614125, 636056, 681472, 729000, 778688, 830584, 857375, 884736, 941192, 1000000]\n"
     ]
    }
   ],
   "source": [
    "l=[]\n",
    "cube_l=[]\n",
    "for i in range(1,101):\n",
    "    l.append(i)\n",
    "    cube=i**3\n",
    "    if cube % 4 == 0 or cube % 5 == 0:\n",
    "        cube_l.append(cube)\n",
    "print(\"the list of cube that are divisible by 4 or 5:\",cube_l)"
   ]
  },
  {
   "cell_type": "code",
   "execution_count": 3,
   "id": "d365c808-6973-4c40-a2b8-8bfb774c1f7b",
   "metadata": {},
   "outputs": [
    {
     "name": "stdout",
     "output_type": "stream",
     "text": [
      "the list of cube that are divisible by 4 or 5: [0, 8, 64, 125, 216, 512, 1000, 1728, 2744, 3375, 4096, 5832, 8000, 10648, 13824, 15625, 17576, 21952, 27000, 32768, 39304, 42875, 46656, 54872, 64000, 74088, 85184, 91125, 97336, 110592, 125000, 140608, 157464, 166375, 175616, 195112, 216000, 238328, 262144, 274625, 287496, 314432, 343000, 373248, 405224, 421875, 438976, 474552, 512000, 551368, 592704, 614125, 636056, 681472, 729000, 778688, 830584, 857375, 884736, 941192, 1000000]\n"
     ]
    }
   ],
   "source": [
    "l1=[]\n",
    "cube_l2=[]\n",
    "i=0\n",
    "while i<=100:\n",
    "    l1.append(i)\n",
    "    cube=i**3\n",
    "    if cube % 4==0 or cube%5==0:\n",
    "        cube_l2.append(cube)\n",
    "    i+=1\n",
    "print(\"the list of cube that are divisible by 4 or 5:\",cube_l2)"
   ]
  },
  {
   "cell_type": "markdown",
   "id": "ee35c1f0-1931-48f4-a775-0b60a2669668",
   "metadata": {},
   "source": [
    "Que.5 Filter count vowels in String"
   ]
  },
  {
   "cell_type": "code",
   "execution_count": null,
   "id": "83e3c748-1d0b-4745-b3e8-cf0e20c7a3a8",
   "metadata": {},
   "outputs": [],
   "source": [
    "s=\"I want to become a data scien\""
   ]
  }
 ],
 "metadata": {
  "kernelspec": {
   "display_name": "Python 3 (ipykernel)",
   "language": "python",
   "name": "python3"
  },
  "language_info": {
   "codemirror_mode": {
    "name": "ipython",
    "version": 3
   },
   "file_extension": ".py",
   "mimetype": "text/x-python",
   "name": "python",
   "nbconvert_exporter": "python",
   "pygments_lexer": "ipython3",
   "version": "3.10.8"
  }
 },
 "nbformat": 4,
 "nbformat_minor": 5
}
