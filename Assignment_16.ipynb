{
 "cells": [
  {
   "cell_type": "markdown",
   "id": "9aebe87b-da12-4537-a43a-5a1481169ba2",
   "metadata": {},
   "source": [
    "Q1. What is a database? Differentiate between SQL and NoSQL databases."
   ]
  },
  {
   "cell_type": "markdown",
   "id": "7cc3a2cb-b6f1-462a-8ab9-946b4c8a9b48",
   "metadata": {},
   "source": [
    "Database:A database in SQL Server is made up of a collection of tables that stores a specific set of structured data."
   ]
  },
  {
   "cell_type": "markdown",
   "id": "1b33ac7f-ba02-4272-9d72-505555e8e5e3",
   "metadata": {},
   "source": [
    "SQL databases are relational, use fixed schemas, and are ACID-compliant,\n",
    "while NoSQL databases are non-relational, schema-less, and offer high scalability and performance."
   ]
  },
  {
   "cell_type": "code",
   "execution_count": null,
   "id": "5f3a95db-0dde-4b40-ad6a-55a9ece876eb",
   "metadata": {},
   "outputs": [],
   "source": []
  },
  {
   "cell_type": "markdown",
   "id": "c8f9904a-385a-48d7-b96f-fec8e21d96e8",
   "metadata": {},
   "source": [
    "Q2. What is DDL? Explain why CREATE, DROP, ALTER, and TRUNCATE are used with an example."
   ]
  },
  {
   "cell_type": "markdown",
   "id": "3b108134-725f-4126-9be0-6f7dfe4409d0",
   "metadata": {},
   "source": [
    "DDL (Data Definition Language) is a set of SQL commands used to define and manipulate the structure of a database.\n",
    "\n",
    "CREATE command is used to create a new database object like tables, indexes, views, procedures, etc.\n",
    "Example: CREATE TABLE employee (id INT, name VARCHAR(50), salary FLOAT);\n",
    "\n",
    "DROP command is used to delete an existing database object like a table, index, view, procedure, etc.\n",
    "Example: DROP TABLE employee;\n",
    "\n",
    "ALTER command is used to modify the structure of an existing database object like adding a new column to a table, renaming an object, etc.\n",
    "Example: ALTER TABLE employee ADD COLUMN age INT;\n",
    "\n",
    "TRUNCATE command is used to remove all the data from a table, leaving the structure of the table intact.\n",
    "Example: TRUNCATE TABLE employee;"
   ]
  },
  {
   "cell_type": "code",
   "execution_count": null,
   "id": "d701e1f0-b68b-4992-baa3-93cb69630e0d",
   "metadata": {},
   "outputs": [],
   "source": []
  },
  {
   "cell_type": "markdown",
   "id": "5c6e4ba7-cdfe-4fbe-986f-f96665323a8a",
   "metadata": {},
   "source": [
    "Q3. What is DML? Explain INSERT, UPDATE, and DELETE with an example."
   ]
  },
  {
   "cell_type": "markdown",
   "id": "fab48812-b073-4a16-8554-09e9720283f6",
   "metadata": {},
   "source": [
    "DML (Data Manipulation Language) is a set of SQL commands used to manipulate data within a database.\n",
    "\n",
    "INSERT command is used to insert new rows of data into a table.\n",
    "Example: INSERT INTO employee (id, name, salary) VALUES (1, 'John Doe', 50000);\n",
    "\n",
    "UPDATE command is used to modify existing rows of data in a table.\n",
    "Example: UPDATE employee SET salary = 55000 WHERE id = 1;\n",
    "\n",
    "DELETE command is used to remove rows of data from a table.\n",
    "Example: DELETE FROM employee WHERE id = 1;\n",
    "\n",
    "In the above examples, 'employee' is the name of the table, 'id', 'name', 'salary' and 'age' are column names, and 'John Doe' is a value for the 'name' column. The WHERE clause is used to filter which rows should be updated or deleted."
   ]
  },
  {
   "cell_type": "code",
   "execution_count": null,
   "id": "b1313dac-22a0-4172-b7b5-24d203962e76",
   "metadata": {},
   "outputs": [],
   "source": []
  },
  {
   "cell_type": "markdown",
   "id": "23adf87d-63dc-48d5-9327-42379c86b7e9",
   "metadata": {},
   "source": [
    "Q4. What is DQL? Explain SELECT with an example."
   ]
  },
  {
   "cell_type": "markdown",
   "id": "76b2e573-a143-4142-8fb6-bc6374c25a3d",
   "metadata": {},
   "source": [
    "DQL (Data Query Language) is a set of SQL commands used to retrieve data from a database.\n",
    "\n",
    "SELECT command is used to retrieve data from one or more tables in a database.\n",
    "Example: SELECT name, salary FROM employee WHERE id = 1;\n",
    "In the above example, 'employee' is the name of the table, and 'name' and 'salary' are the column names. The WHERE clause is used to filter the results based on a condition, in this case, where the 'id' column equals 1. The result of the query would be a single row containing the name and salary of the employee with an 'id' of 1.\n",
    "\n",
    "The SELECT statement can be expanded to include more complex queries involving functions, grouping, joining multiple tables, and subqueries.\n",
    "\n",
    "\n",
    "\n"
   ]
  },
  {
   "cell_type": "code",
   "execution_count": null,
   "id": "7a455879-f1b3-4709-a07c-3c2df7a4046f",
   "metadata": {},
   "outputs": [],
   "source": []
  },
  {
   "cell_type": "markdown",
   "id": "50ee4ea1-9987-4b3a-bfee-f058f528ece5",
   "metadata": {},
   "source": [
    "Q5. Explain Primary Key and Foreign Key."
   ]
  },
  {
   "cell_type": "markdown",
   "id": "be139d80-223d-4fcd-a76d-d186f6b99a9a",
   "metadata": {},
   "source": [
    "Primary Key:\n",
    "A primary key is a column or set of columns in a table that uniquely identifies each row of data. It must have a unique value for each row and cannot contain null values. Primary keys are used to enforce data integrity and to link data across multiple tables using foreign keys.\n",
    "\n",
    "Foreign Key:\n",
    "A foreign key is a column or set of columns in one table that refers to the primary key of another table. It creates a relationship between the two tables and is used to maintain data consistency and integrity across multiple tables. Foreign keys ensure that data in the child table (the table with the foreign key) references valid data in the parent table (the table with the primary key)."
   ]
  },
  {
   "cell_type": "code",
   "execution_count": null,
   "id": "ddb66ea3-eef7-45bd-a982-51652f37161b",
   "metadata": {},
   "outputs": [],
   "source": []
  },
  {
   "cell_type": "markdown",
   "id": "ecfec3c6-bb0d-4737-b8a7-f7244253ae2b",
   "metadata": {},
   "source": [
    "Q6. Write a python code to connect MySQL to python. Explain the cursor() and execute() method."
   ]
  },
  {
   "cell_type": "code",
   "execution_count": null,
   "id": "f78920f3-d9be-4b3d-88ac-f3c8f0b532dd",
   "metadata": {},
   "outputs": [],
   "source": [
    "import mysql.connector\n",
    "mydb = mysql.connector.connect(\n",
    "  host=\"localhost\",\n",
    "  user=\"abc\",\n",
    "  password=\"password\"\n",
    ")\n",
    "print(mydb)\n",
    "mycursor = mydb.cursor()\n",
    "mycursor.execute(\"insert into test2.test_table values(123,'dipesh',4.5,267,'rahul')\")\n",
    "mydb.commit()\n",
    "mydb.close()"
   ]
  },
  {
   "cell_type": "markdown",
   "id": "3c815d59-d60a-4106-a0ee-c752ea6d356c",
   "metadata": {},
   "source": [
    "The cursor() method creates a cursor object that allows us to execute queries and fetch results from the database.\n",
    "The execute() method is used to execute SQL queries on the database through the cursor object.\n",
    "It takes an SQL query string as a parameter and executes it. In the above example, we used the execute() method to execute a SELECT query to fetch all rows from the employee table. \n",
    "The fetchall() method retrieves all rows from the result set generated by the SELECT query, and the for loop is used to print each row of the result set."
   ]
  },
  {
   "cell_type": "code",
   "execution_count": null,
   "id": "9e446764-da8c-4761-ab19-a710b98773cf",
   "metadata": {},
   "outputs": [],
   "source": []
  },
  {
   "cell_type": "markdown",
   "id": "17c6ce7d-5c76-4dfa-a285-c87d4eae4194",
   "metadata": {},
   "source": [
    "Q7. Give the order of execution of SQL clauses in an SQL query."
   ]
  },
  {
   "cell_type": "markdown",
   "id": "b1ba0871-db20-4972-a557-c12f829cb926",
   "metadata": {},
   "source": [
    "1. FROM: Specifies the table(s) or view(s) from which data is retrieved.\n",
    "2. JOIN: Combines rows from two or more tables based on a related column between them.\n",
    "3. WHERE: Filters the rows based on a specified condition.\n",
    "4. GROUP BY: Groups the rows with the same values into summary rows.\n",
    "5. HAVING: Filters the grouped rows based on a specified condition.\n",
    "6. SELECT: Retrieves one or more columns of data from one or more tables.\n",
    "7. DISTINCT: Filters out duplicate rows from the result set.\n",
    "8. ORDER BY: Sorts the rows in ascending or descending order based on one or more columns.\n",
    "9. LIMIT: Limits the number of rows returned by the query."
   ]
  },
  {
   "cell_type": "code",
   "execution_count": null,
   "id": "e6c0685a-c876-4e34-a06a-aded3382d118",
   "metadata": {},
   "outputs": [],
   "source": []
  }
 ],
 "metadata": {
  "kernelspec": {
   "display_name": "Python 3 (ipykernel)",
   "language": "python",
   "name": "python3"
  },
  "language_info": {
   "codemirror_mode": {
    "name": "ipython",
    "version": 3
   },
   "file_extension": ".py",
   "mimetype": "text/x-python",
   "name": "python",
   "nbconvert_exporter": "python",
   "pygments_lexer": "ipython3",
   "version": "3.10.8"
  }
 },
 "nbformat": 4,
 "nbformat_minor": 5
}
