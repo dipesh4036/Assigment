{
 "cells": [
  {
   "cell_type": "markdown",
   "id": "62b44453-27f1-435e-bb99-6f0d8bd985ab",
   "metadata": {},
   "source": [
    "Q1. Explain Class and Object with respect to Object-Oriented Programming. Give a suitable example."
   ]
  },
  {
   "cell_type": "code",
   "execution_count": 2,
   "id": "96ecbecc-cd16-4589-876f-d906c66869f0",
   "metadata": {},
   "outputs": [
    {
     "data": {
      "text/plain": [
       "300000"
      ]
     },
     "execution_count": 2,
     "metadata": {},
     "output_type": "execute_result"
    }
   ],
   "source": [
    "# Class: A class is considered as a blueprint of objects\n",
    "# Object: An object is called an instance of a class. \\\n",
    "class bike():         # this is class and class name\n",
    "    name=\"shift\"\n",
    "    price=300000\n",
    "obj=bike()            # create a object\n",
    "obj.name              # call class variable\n",
    "obj.price"
   ]
  },
  {
   "cell_type": "markdown",
   "id": "c7e24444-f3f3-4308-9554-ee87dfd06f45",
   "metadata": {},
   "source": [
    "Q2. Name the four pillars of OOPs."
   ]
  },
  {
   "cell_type": "code",
   "execution_count": null,
   "id": "2beb0112-1829-453d-ad1a-6d49221eb78a",
   "metadata": {},
   "outputs": [],
   "source": [
    "# These four pillars are Inheritance, Polymorphism, Encapsulation and Abstraction"
   ]
  },
  {
   "cell_type": "markdown",
   "id": "fe845567-4e3e-4484-9c84-40d5c66d73ec",
   "metadata": {},
   "source": [
    "Q3. Explain why the __init__() function is used. Give a suitable example."
   ]
  },
  {
   "cell_type": "code",
   "execution_count": 5,
   "id": "c8da305e-05f5-4888-8cac-e3610f1b361e",
   "metadata": {},
   "outputs": [
    {
     "data": {
      "text/plain": [
       "'dipesh'"
      ]
     },
     "execution_count": 5,
     "metadata": {},
     "output_type": "execute_result"
    }
   ],
   "source": [
    "'''the __init__() function to assign values to object properties,\n",
    "or other operations that are necessary to do when the object is being created'''\n",
    "class test:\n",
    "    def __init__(self,phone_no,name,erp):\n",
    "        self.phone_no=phone_no\n",
    "        self.name=name\n",
    "        self.erp=erp\n",
    "obj1=test(990000000,'dipesh',102)\n",
    "obj1.phone_no\n",
    "obj1.name"
   ]
  },
  {
   "cell_type": "markdown",
   "id": "b9c6d7d9-79f9-400e-b28c-b47b116614db",
   "metadata": {},
   "source": [
    "Q4. Why self is used in OOPs"
   ]
  },
  {
   "cell_type": "code",
   "execution_count": 6,
   "id": "a1a7cae9-e74b-4828-a9bc-746ff4632428",
   "metadata": {},
   "outputs": [],
   "source": [
    "# The self variable is used to represent the instance of the class which is often used in object-oriented programming.\n",
    "# It works as a reference to the object."
   ]
  },
  {
   "cell_type": "markdown",
   "id": "eb5ac4f6-fbe8-4adb-8cf1-e8acf1f48254",
   "metadata": {},
   "source": [
    "Q5. What is inheritance? Give an example for each type of inheritance."
   ]
  },
  {
   "cell_type": "code",
   "execution_count": null,
   "id": "551ff64e-644e-4876-89eb-46b38572db12",
   "metadata": {},
   "outputs": [],
   "source": [
    "# inheritance is a mechanism of acquiring the features and behaviors of a class by another class.\n",
    "# type of inheritance:\n",
    "#\tSingle Inheritance.\n",
    "#\tMultiple Inheritance.\n",
    "#\tMultilevel Inheritance.\n",
    "#\tHierarchical Inheritance.\n",
    "#\tHybrid Inheritance."
   ]
  }
 ],
 "metadata": {
  "kernelspec": {
   "display_name": "Python 3 (ipykernel)",
   "language": "python",
   "name": "python3"
  },
  "language_info": {
   "codemirror_mode": {
    "name": "ipython",
    "version": 3
   },
   "file_extension": ".py",
   "mimetype": "text/x-python",
   "name": "python",
   "nbconvert_exporter": "python",
   "pygments_lexer": "ipython3",
   "version": "3.10.8"
  }
 },
 "nbformat": 4,
 "nbformat_minor": 5
}
