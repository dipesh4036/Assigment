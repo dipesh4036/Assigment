{
 "cells": [
  {
   "cell_type": "code",
   "execution_count": null,
   "id": "43715550-960b-4a7e-a682-031c1907a3fa",
   "metadata": {},
   "outputs": [],
   "source": [
    "Question:1"
   ]
  },
  {
   "cell_type": "code",
   "execution_count": 2,
   "id": "93fc9f6d-2a99-4f42-abf8-457d18dcc227",
   "metadata": {},
   "outputs": [
    {
     "name": "stdin",
     "output_type": "stream",
     "text": [
      "Enter Your Marks: 45\n"
     ]
    },
    {
     "name": "stdout",
     "output_type": "stream",
     "text": [
      "D Grade\n"
     ]
    }
   ],
   "source": [
    "mark=int(input(\"Enter Your Marks:\"))\n",
    "if mark > 90:\n",
    "    print(\"A Grade\")\n",
    "elif mark>80 and mark<=90:\n",
    "    print(\"B Grade\")\n",
    "elif mark>=60 and mark<=80:\n",
    "    print(\"C Grade\")\n",
    "else:\n",
    "    print(\"D Grade\")"
   ]
  },
  {
   "cell_type": "code",
   "execution_count": null,
   "id": "151e88a4-4bad-4fc0-93ea-2807c543f2d7",
   "metadata": {},
   "outputs": [],
   "source": [
    "Question:2"
   ]
  },
  {
   "cell_type": "code",
   "execution_count": 3,
   "id": "542b9458-7ca4-4e79-90e1-90cae56c7233",
   "metadata": {},
   "outputs": [
    {
     "name": "stdin",
     "output_type": "stream",
     "text": [
      "Enter CostPrice Your Bike: 400000\n"
     ]
    },
    {
     "name": "stdout",
     "output_type": "stream",
     "text": [
      "15% TAX\n"
     ]
    }
   ],
   "source": [
    "Price=int(input(\"Enter CostPrice Your Bike:\"))\n",
    "if Price>100000:\n",
    "\tprint(\"15% TAX\")\n",
    "elif Price>50000 and Price<=100000:\n",
    "    print(\"10% TAX\")\n",
    "else:\n",
    "    print(\"5% TAX\")"
   ]
  },
  {
   "cell_type": "code",
   "execution_count": null,
   "id": "1e38a23d-6fb9-4de6-a731-2235b776f8df",
   "metadata": {},
   "outputs": [],
   "source": [
    "Question:3"
   ]
  },
  {
   "cell_type": "code",
   "execution_count": 4,
   "id": "e66730f5-cbfa-4b93-b82a-bff833ca5ab5",
   "metadata": {},
   "outputs": [
    {
     "name": "stdin",
     "output_type": "stream",
     "text": [
      "Enter Your City delhi\n"
     ]
    },
    {
     "name": "stdout",
     "output_type": "stream",
     "text": [
      "Red Fort\n"
     ]
    }
   ],
   "source": [
    "city=input(\"Enter Your City\")\n",
    "if city == \"delhi\":\n",
    "    print(\"Red Fort\")\n",
    "elif city == \"agra\":\n",
    "    print(\"Taj Mahal\")\n",
    "elif city == \"jaipur\":\n",
    "    print(\"Jal Mahal\")\n",
    "else:\n",
    "    print(\"Enter Right City\")"
   ]
  },
  {
   "cell_type": "code",
   "execution_count": null,
   "id": "01f9d98f-68ae-4ec7-bc6b-90545e2ac29f",
   "metadata": {},
   "outputs": [],
   "source": [
    "Question:4"
   ]
  },
  {
   "cell_type": "code",
   "execution_count": 5,
   "id": "e4fb96f1-0992-450d-a548-6c5ffcea24f9",
   "metadata": {},
   "outputs": [
    {
     "name": "stdin",
     "output_type": "stream",
     "text": [
      "Enter Your Number 67\n"
     ]
    },
    {
     "name": "stdout",
     "output_type": "stream",
     "text": [
      "2\n"
     ]
    }
   ],
   "source": [
    "num=int(input(\"Enter Your Number\"))\n",
    "count=0\n",
    "while num>10:\n",
    "    num=num/3\n",
    "    count=count+1\n",
    "print(count)\n"
   ]
  },
  {
   "cell_type": "code",
   "execution_count": null,
   "id": "e127573b-d0d9-4008-97db-8109a50e466f",
   "metadata": {},
   "outputs": [],
   "source": [
    "Question:5"
   ]
  },
  {
   "cell_type": "code",
   "execution_count": 6,
   "id": "d09c9328-7178-4f99-a774-9e79e9dd21f0",
   "metadata": {},
   "outputs": [
    {
     "name": "stdin",
     "output_type": "stream",
     "text": [
      "Enter a number:  23\n",
      "Enter a number:  34\n",
      "Enter a number:  45\n",
      "Enter a number:  0\n"
     ]
    },
    {
     "name": "stdout",
     "output_type": "stream",
     "text": [
      "total = 102\n"
     ]
    }
   ],
   "source": [
    "\"\"\" For loop is used when the number of iterations is already known.\n",
    "While loop is used when the number of iterations is already Unknown.  \"\"\"\n",
    "\n",
    "#Example \n",
    "total = 0\n",
    "number = int(input('Enter a number: '))\n",
    "while number != 0:\n",
    "    total += number  \n",
    "    number = int(input('Enter a number: '))\n",
    "print('total =', total)"
   ]
  },
  {
   "cell_type": "code",
   "execution_count": null,
   "id": "7bae4114-f7a4-466e-8692-c98b1a368ca0",
   "metadata": {},
   "outputs": [],
   "source": [
    "Question:6"
   ]
  },
  {
   "cell_type": "code",
   "execution_count": 10,
   "id": "4f0f6621-2a1e-4758-84af-c3a4eba49416",
   "metadata": {},
   "outputs": [
    {
     "name": "stdin",
     "output_type": "stream",
     "text": [
      "Enter the number of rows 3\n"
     ]
    },
    {
     "name": "stdout",
     "output_type": "stream",
     "text": [
      "* \n",
      "* * \n",
      "* * * \n",
      "--------------\n"
     ]
    },
    {
     "name": "stdin",
     "output_type": "stream",
     "text": [
      "Enter the number of rows:  3\n"
     ]
    },
    {
     "name": "stdout",
     "output_type": "stream",
     "text": [
      " \n",
      "1  \n",
      "2 2  \n",
      "3 3 3  \n",
      "--------------\n"
     ]
    },
    {
     "name": "stdin",
     "output_type": "stream",
     "text": [
      "Enter the number of rows:  3\n"
     ]
    },
    {
     "name": "stdout",
     "output_type": "stream",
     "text": [
      "1 2 3 \n",
      "2 2 3 \n",
      "3 3 3 \n"
     ]
    }
   ],
   "source": [
    "n = int(input(\"Enter the number of rows\"))   \n",
    "for i in range(0, n):   \n",
    "        for j in range(0, i + 1):  \n",
    "            print(\"* \", end=\"\")       \n",
    "        print()  \n",
    "print(\"--------------\")\n",
    "rows = int(input(\"Enter the number of rows: \"))  \n",
    "for i in range(rows+1):  \n",
    "    for j in range(i):  \n",
    "        print(i, end=\" \")   \n",
    "    print(\" \")  \n",
    "print(\"--------------\")\n",
    "rows = int(input(\"Enter the number of rows: \"))  \n",
    "for i in range(1, rows + 1):  \n",
    "    for j in range(1, rows + 1):   \n",
    "        if j <= i:  \n",
    "            print(i, end=' ')  \n",
    "        else:  \n",
    "            print(j, end=' ')  \n",
    "    print()  "
   ]
  },
  {
   "cell_type": "code",
   "execution_count": null,
   "id": "006670af-ec47-4add-b7e6-573679b73ea0",
   "metadata": {},
   "outputs": [],
   "source": [
    "Question:7"
   ]
  },
  {
   "cell_type": "code",
   "execution_count": 5,
   "id": "9e5afbca-7ef6-4292-bfd7-9893377d8304",
   "metadata": {},
   "outputs": [
    {
     "name": "stdout",
     "output_type": "stream",
     "text": [
      "10\n",
      "9\n",
      "8\n",
      "7\n",
      "6\n",
      "5\n",
      "4\n",
      "3\n",
      "2\n",
      "1\n"
     ]
    }
   ],
   "source": [
    "i=10\n",
    "while i>0:\n",
    "    print(i)\n",
    "    i=i-1"
   ]
  },
  {
   "cell_type": "code",
   "execution_count": null,
   "id": "6d7a76f7-2bb8-47f3-9384-c9242c8cea8d",
   "metadata": {},
   "outputs": [],
   "source": [
    "Question:8"
   ]
  },
  {
   "cell_type": "code",
   "execution_count": 9,
   "id": "0fc0bcdf-873a-4f16-af9f-f7c1088d0961",
   "metadata": {},
   "outputs": [
    {
     "name": "stdout",
     "output_type": "stream",
     "text": [
      "10\n",
      "9\n",
      "8\n",
      "7\n",
      "6\n",
      "5\n",
      "4\n",
      "3\n",
      "2\n",
      "1\n"
     ]
    }
   ],
   "source": [
    "i=10\n",
    "while i>0:\n",
    "    print(i)\n",
    "    i=i-1"
   ]
  }
 ],
 "metadata": {
  "kernelspec": {
   "display_name": "Python 3 (ipykernel)",
   "language": "python",
   "name": "python3"
  },
  "language_info": {
   "codemirror_mode": {
    "name": "ipython",
    "version": 3
   },
   "file_extension": ".py",
   "mimetype": "text/x-python",
   "name": "python",
   "nbconvert_exporter": "python",
   "pygments_lexer": "ipython3",
   "version": "3.10.8"
  }
 },
 "nbformat": 4,
 "nbformat_minor": 5
}
