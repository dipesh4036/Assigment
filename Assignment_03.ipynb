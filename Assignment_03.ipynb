{
 "cells": [
  {
   "cell_type": "markdown",
   "id": "7e415d7b-29e9-4dbe-987c-e254ff6e734d",
   "metadata": {},
   "source": [
    "Que1.which keyword and odd list upto 1 to 25"
   ]
  },
  {
   "cell_type": "code",
   "execution_count": 5,
   "id": "e0a8fc1d-fb87-4c0f-babb-d2c7181d724b",
   "metadata": {},
   "outputs": [
    {
     "data": {
      "text/plain": [
       "[1, 3, 5, 7, 9, 11, 13, 15, 17, 19, 21, 23]"
      ]
     },
     "execution_count": 5,
     "metadata": {},
     "output_type": "execute_result"
    }
   ],
   "source": [
    "#.the def keyword is used to create a function\n",
    "def odd_num():\n",
    "    l1=[]\n",
    "    for i in range(0,25):\n",
    "        if i%2!=0:\n",
    "            l1.append(i)\n",
    "    return l1\n",
    "odd_num()\n"
   ]
  },
  {
   "cell_type": "markdown",
   "id": "8c1bd2f7-a9d8-4c8f-b295-fa2ca40c3a65",
   "metadata": {},
   "source": [
    "Que2. *args and **args use and one-one program "
   ]
  },
  {
   "cell_type": "code",
   "execution_count": 11,
   "id": "215d989f-ba23-4e86-a0f5-289b54496d37",
   "metadata": {},
   "outputs": [
    {
     "data": {
      "text/plain": [
       "(1, 2, 3, 23.45, [45, 56, 67], True)"
      ]
     },
     "execution_count": 11,
     "metadata": {},
     "output_type": "execute_result"
    }
   ],
   "source": [
    "\n",
    "#. *args passes variable number of non-keyworded arguments and on which operation of the tuple can be performed.\n",
    "def test1(*args):\n",
    "\treturn args\n",
    "test1(1,2,3,23.45,[45,56,67],True)"
   ]
  },
  {
   "cell_type": "code",
   "execution_count": 12,
   "id": "fb07b4a4-ad31-4fe7-ba6a-4a9c99799f9e",
   "metadata": {},
   "outputs": [
    {
     "data": {
      "text/plain": [
       "{'a': 'dipesh', 'b': 'sojitra', 'c': 'kumar'}"
      ]
     },
     "execution_count": 12,
     "metadata": {},
     "output_type": "execute_result"
    }
   ],
   "source": [
    "# **kwargs passes variable number of keyword arguments dictionary to function on which operation of a dictionary can be performed.\n",
    "def test2(**args):\n",
    "    return args\n",
    "test2(a=\"dipesh\",b=\"sojitra\",c=\"kumar\")"
   ]
  },
  {
   "cell_type": "markdown",
   "id": "d7176031-35c9-476f-87b8-3567136a85c3",
   "metadata": {},
   "source": [
    "Que3. what is iterator and "
   ]
  },
  {
   "cell_type": "code",
   "execution_count": 20,
   "id": "2f822a24-a5eb-4dad-a226-75d725756f02",
   "metadata": {},
   "outputs": [
    {
     "name": "stdout",
     "output_type": "stream",
     "text": [
      "2\n",
      "4\n",
      "how many element is under 5: 2\n"
     ]
    }
   ],
   "source": [
    "'''An iterator is an object that contains a countable number of values.\n",
    "An iterator is an object that can be iterated upon, meaning that you can traverse through all the values. '''\n",
    "l=[2,4,6,8,10,12,14,16,18,20]\n",
    "counter=0\n",
    "for i in l:\n",
    "    if i<5:\n",
    "        print(i)\n",
    "        counter=counter+1\n",
    "print(\"how many element is under 5:\",counter)"
   ]
  },
  {
   "cell_type": "markdown",
   "id": "c46abcf9-d42f-44de-9d61-53409e526034",
   "metadata": {},
   "source": [
    "Que4. generator function,yield keyword and example:"
   ]
  },
  {
   "cell_type": "code",
   "execution_count": 2,
   "id": "19c423c3-c8a8-4baf-9704-6228e19a6764",
   "metadata": {},
   "outputs": [
    {
     "name": "stdout",
     "output_type": "stream",
     "text": [
      "0\n",
      "2\n",
      "4\n",
      "6\n",
      "8\n"
     ]
    }
   ],
   "source": [
    " # A generator is a function that returns an iterator that produces a sequence of values when iterated over.\n",
    " # yield keyword is used to create a generator function.\n",
    "def simple():  \n",
    "    for i in range(10):  \n",
    "        if(i%2==0):  \n",
    "         \tyield i  \n",
    "for i in simple():  \n",
    "    print(i)"
   ]
  },
  {
   "cell_type": "markdown",
   "id": "14b24f5f-70ed-47b5-8b64-1b63de447b41",
   "metadata": {},
   "source": [
    "Que.5  prime number upto 1000 and using next() method print first 20 prime number"
   ]
  },
  {
   "cell_type": "code",
   "execution_count": 19,
   "id": "ee33f15a-b352-4dc3-8127-0dcb8d5b9f97",
   "metadata": {},
   "outputs": [
    {
     "name": "stdout",
     "output_type": "stream",
     "text": [
      "2\n",
      "3\n",
      "5\n",
      "7\n",
      "11\n",
      "13\n",
      "17\n",
      "19\n",
      "23\n",
      "29\n",
      "31\n",
      "37\n",
      "41\n",
      "43\n",
      "47\n",
      "53\n",
      "59\n",
      "61\n",
      "67\n",
      "71\n"
     ]
    }
   ],
   "source": [
    "def prime():\n",
    "    for i in range(2,1000):\n",
    "        b=True\n",
    "        for j in range(2,i):\n",
    "            if i%j==0:\n",
    "                b=False\n",
    "                break\n",
    "        if b==True:\n",
    "            yield i\n",
    "prime_gen = prime()\n",
    "for i in range(20):\n",
    "    print(next(prime_gen))"
   ]
  },
  {
   "cell_type": "markdown",
   "id": "fc70a725-1ff7-4278-997f-e221854bcfb3",
   "metadata": {},
   "source": [
    "Que.6 first 10 fibonacci number usinh while loop"
   ]
  },
  {
   "cell_type": "code",
   "execution_count": 1,
   "id": "24c6b73f-84b8-4be1-abfd-d3746d741a4b",
   "metadata": {},
   "outputs": [
    {
     "name": "stdout",
     "output_type": "stream",
     "text": [
      "0\n",
      "1\n",
      "1\n",
      "2\n",
      "3\n",
      "5\n",
      "8\n",
      "13\n",
      "21\n",
      "34\n",
      "55\n"
     ]
    }
   ],
   "source": [
    "n=10\n",
    "a,b=0,1\n",
    "i=0\n",
    "while i<=n:\n",
    "    print(a)\n",
    "    a,b=b,a+b\n",
    "    i=i+1"
   ]
  },
  {
   "cell_type": "markdown",
   "id": "58a9fbb7-69af-46d7-ba8f-7ffd3aab4af9",
   "metadata": {},
   "source": [
    "Que.7 list comprehension to iterate \"pwskills\""
   ]
  },
  {
   "cell_type": "code",
   "execution_count": 12,
   "id": "4c89c442-594a-404c-9d1c-147ed5d132a9",
   "metadata": {},
   "outputs": [
    {
     "data": {
      "text/plain": [
       "['p', 'w', 's', 'k', 'i', 'l', 'l', 's']"
      ]
     },
     "execution_count": 12,
     "metadata": {},
     "output_type": "execute_result"
    }
   ],
   "source": [
    "s=\"pwskills\"\n",
    "l1=[]\n",
    "[i for i in s]"
   ]
  },
  {
   "cell_type": "markdown",
   "id": "0c85b928-a86a-405a-a9d4-f4752acab5fb",
   "metadata": {},
   "source": [
    "Que.8 palindrome using while loop"
   ]
  },
  {
   "cell_type": "code",
   "execution_count": 28,
   "id": "c4528965-ab0c-4e4d-ac83-56529e804ea0",
   "metadata": {},
   "outputs": [
    {
     "name": "stdin",
     "output_type": "stream",
     "text": [
      "Enter a number: 123\n"
     ]
    },
    {
     "name": "stdout",
     "output_type": "stream",
     "text": [
      "Not a palindrome!\n"
     ]
    }
   ],
   "source": [
    "num=int(input(\"Enter a number:\"))\n",
    "temp=num\n",
    "rev=0\n",
    "while(num>0):\n",
    "    dig=num%10\n",
    "    rev=rev*10+dig\n",
    "    num=num//10\n",
    "if(temp==rev):\n",
    "    print(\"The number is palindrome!\")\n",
    "else:\n",
    "    print(\"Not a palindrome!\")"
   ]
  },
  {
   "cell_type": "markdown",
   "id": "ff0dd3bc-8405-4d4e-8501-4d1fcf6fe175",
   "metadata": {},
   "source": [
    "Que.9 odd number 1 to 100 using list comprehension"
   ]
  },
  {
   "cell_type": "code",
   "execution_count": 4,
   "id": "f44216f0-4497-44f0-bc19-0d88a25869de",
   "metadata": {},
   "outputs": [
    {
     "data": {
      "text/plain": [
       "[1,\n",
       " 3,\n",
       " 5,\n",
       " 7,\n",
       " 9,\n",
       " 11,\n",
       " 13,\n",
       " 15,\n",
       " 17,\n",
       " 19,\n",
       " 21,\n",
       " 23,\n",
       " 25,\n",
       " 27,\n",
       " 29,\n",
       " 31,\n",
       " 33,\n",
       " 35,\n",
       " 37,\n",
       " 39,\n",
       " 41,\n",
       " 43,\n",
       " 45,\n",
       " 47,\n",
       " 49,\n",
       " 51,\n",
       " 53,\n",
       " 55,\n",
       " 57,\n",
       " 59,\n",
       " 61,\n",
       " 63,\n",
       " 65,\n",
       " 67,\n",
       " 69,\n",
       " 71,\n",
       " 73,\n",
       " 75,\n",
       " 77,\n",
       " 79,\n",
       " 81,\n",
       " 83,\n",
       " 85,\n",
       " 87,\n",
       " 89,\n",
       " 91,\n",
       " 93,\n",
       " 95,\n",
       " 97,\n",
       " 99]"
      ]
     },
     "execution_count": 4,
     "metadata": {},
     "output_type": "execute_result"
    }
   ],
   "source": [
    "[i for i in range(100) if i%2!=0]"
   ]
  },
  {
   "cell_type": "code",
   "execution_count": null,
   "id": "77214fb1-160d-4c89-9913-05c1db285368",
   "metadata": {},
   "outputs": [],
   "source": []
  },
  {
   "cell_type": "code",
   "execution_count": null,
   "id": "29120021-b84a-452f-8792-a137aded4492",
   "metadata": {},
   "outputs": [],
   "source": []
  }
 ],
 "metadata": {
  "kernelspec": {
   "display_name": "Python 3 (ipykernel)",
   "language": "python",
   "name": "python3"
  },
  "language_info": {
   "codemirror_mode": {
    "name": "ipython",
    "version": 3
   },
   "file_extension": ".py",
   "mimetype": "text/x-python",
   "name": "python",
   "nbconvert_exporter": "python",
   "pygments_lexer": "ipython3",
   "version": "3.10.8"
  }
 },
 "nbformat": 4,
 "nbformat_minor": 5
}
